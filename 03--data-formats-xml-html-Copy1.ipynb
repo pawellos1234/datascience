{
 "cells": [
  {
   "cell_type": "code",
   "execution_count": 1,
   "metadata": {},
   "outputs": [
    {
     "ename": "SyntaxError",
     "evalue": "invalid syntax (<ipython-input-1-f4789c8a12c4>, line 2)",
     "output_type": "error",
     "traceback": [
      "\u001b[0;36m  File \u001b[0;32m\"<ipython-input-1-f4789c8a12c4>\"\u001b[0;36m, line \u001b[0;32m2\u001b[0m\n\u001b[0;31m    ===================\u001b[0m\n\u001b[0m     ^\u001b[0m\n\u001b[0;31mSyntaxError\u001b[0m\u001b[0;31m:\u001b[0m invalid syntax\n"
     ]
    }
   ],
   "source": [
    "# More complex format\n",
    "===================\n",
    "\n",
    "* xml\n",
    "* html\n",
    "\n",
    "XML\n",
    "===\n",
    "    * data transfer\n",
    "    * nested elements\n",
    "    * document validation\n",
    "    * parsers in most languages\n",
    "    * focus on bussines\n",
    "    * \n",
    "\n",
    "```xml\n",
    "<article>\n",
    "    <info>\n",
    "        <title>Some title</title>\n",
    "        <authors>\n",
    "            <author>\n",
    "                <firstname>Jakub</firstname>\n",
    "                <lastname>Kanclerz</lastname>\n",
    "            </author>\n",
    "        </authors>\n",
    "    </info>\n",
    "    <content>\n",
    "        <section type=\"header\">\n",
    "            <paragraph>\n",
    "                some title\n",
    "            </paragraph>\n",
    "        </section>\n",
    "        <section type=\"main\">\n",
    "            <paragraph>\n",
    "                some content\n",
    "            </paragraph>\n",
    "            <image src=\"image/src.jpeg\"/>\n",
    "        </section>\n",
    "    </content>\n",
    "</article>\n",
    "```\n",
    "\n",
    "Html\n",
    "====\n",
    "\n",
    "```html\n",
    "<li class=\"link\">\n",
    "    <div class=\"article\" data-id=\"4789115\">\n",
    "        <a href=\"#4789115\">\n",
    "            <span>85</span>\n",
    "            <span class=\"button button submit\">wykop</span>\n",
    "        </a>\n",
    "    </div>\n",
    "\n",
    "    <div class=\"media-content m-reset-float \">\n",
    "        <a href=\"https://www.wykop.pl/link/4789115/w-jaki-sposob-facebook-stal-sie-lewicowa-sekta-opowiesc-pracownika-firmy/\">\n",
    "            <img src=\"https://www.wykop.pl/cdn/c3397993/link_MwUxfsmJdpfvuiy0ICl1l0Yw35VeWgBc,w207h139.jpg\" alt=\"W jaki sposób Facebook stał się lewicową sektą? Opowieść pracownika firmy.\">\n",
    "        </a>\n",
    "    </div>\n",
    "    <div class=\"lcontrast m-reset-margin\">\n",
    "        <h2>\n",
    "            <a href=\"https://www.wykop.pl/link/4789115/w-jaki-sposob-facebook-stal-sie-lewicowa-sekta-opowiesc-pracownika-firmy/\"\n",
    "                rel=\"nofollow noopener noreferrer\" title=\"W jaki sposób Facebook stał się lewicową sektą? Opowieść pracownika firmy.\">W\n",
    "                jaki sposób Facebook stał się lewicową sektą? Opowieść pracownika firmy.</a>\n",
    "        </h2>\n",
    "\n",
    "\n",
    "        <div class=\"description\">\n",
    "            <p class=\"text\">\n",
    "                <a href=\"https://www.wykop.pl/link/4789115/w-jaki-sposob-facebook-stal-sie-lewicowa-sekta-opowiesc-pracownika-firmy/\"\n",
    "                    title=\"\">\n",
    "                    Tragiczna relacja pracownika, który przez lata obserwował jak serwis promujący wolność słowa\n",
    "                    zamienił się w ideologiczny rynsztok prześladujący pracowników o zróżnicowanym światopoglądzie.\n",
    "                </a>\n",
    "            </p>\n",
    "        </div>\n",
    "    </div>\n",
    "</li>\n",
    "```"
   ]
  },
  {
   "cell_type": "code",
   "execution_count": 2,
   "metadata": {},
   "outputs": [
    {
     "name": "stdout",
     "output_type": "stream",
     "text": [
      "Collecting bs4\n",
      "  Downloading https://files.pythonhosted.org/packages/10/ed/7e8b97591f6f456174139ec089c769f89a94a1a4025fe967691de971f314/bs4-0.0.1.tar.gz\n",
      "Collecting beautifulsoup4 (from bs4)\n",
      "  Downloading https://files.pythonhosted.org/packages/1d/5d/3260694a59df0ec52f8b4883f5d23b130bc237602a1411fa670eae12351e/beautifulsoup4-4.7.1-py3-none-any.whl (94kB)\n",
      "\u001b[K    100% |████████████████████████████████| 102kB 2.9MB/s a 0:00:011\n",
      "\u001b[?25hCollecting soupsieve>=1.2 (from beautifulsoup4->bs4)\n",
      "  Downloading https://files.pythonhosted.org/packages/bf/b3/2473abf05c4950c6a829ed5dcbc40d8b56d4351d15d6939c8ffb7c6b1a14/soupsieve-1.7.3-py2.py3-none-any.whl\n",
      "Installing collected packages: soupsieve, beautifulsoup4, bs4\n",
      "  Running setup.py install for bs4 ... \u001b[?25ldone\n",
      "\u001b[?25hSuccessfully installed beautifulsoup4-4.7.1 bs4-0.0.1 soupsieve-1.7.3\n"
     ]
    }
   ],
   "source": [
    "!pip install bs4"
   ]
  },
  {
   "cell_type": "code",
   "execution_count": 11,
   "metadata": {},
   "outputs": [],
   "source": [
    "import requests\n",
    "from bs4 import BeautifulSoup as bs\n",
    "from itertools import chain"
   ]
  },
  {
   "cell_type": "code",
   "execution_count": 4,
   "metadata": {},
   "outputs": [],
   "source": [
    "urls = [\n",
    "    \"https://www.wykop.pl/strona/{}\".format(page)\n",
    "    for page in range(1, 10, 1)\n",
    "]"
   ]
  },
  {
   "cell_type": "code",
   "execution_count": 5,
   "metadata": {},
   "outputs": [],
   "source": [
    "import collections\n",
    "from pprint import pprint as pp\n",
    "\n",
    "Wykop = collections.namedtuple('Wykop', ['count', 'title', 'description', 'tags'])\n",
    "\n",
    "def clear_text(text):\n",
    "    return text.rstrip().replace(\"\\n\", '').replace(\"\\t\", '')\n",
    "\n",
    "def grab_wykop_item_data(element):\n",
    "    try:\n",
    "        tags = map(lambda x: x.text, element.select('.article>div a.tag'))\n",
    "        tags = filter(lambda x: x.startswith('#'), tags)\n",
    "        \n",
    "        return Wykop(\n",
    "            int(element.select('.article>div a>span:first-child')[0].text),\n",
    "            element.select('.article>div h2 a')[0]['title'],\n",
    "            clear_text(element.select('.article>div .description')[0].text),\n",
    "            list(tags))\n",
    "    except Exception as e:\n",
    "        return None"
   ]
  },
  {
   "cell_type": "code",
   "execution_count": 6,
   "metadata": {},
   "outputs": [],
   "source": [
    "pages = (requests.get(url) for url in urls)\n",
    "contents = (page.content for page in pages)\n",
    "soups = (bs(content, 'html.parser') for content in contents)\n",
    "lists_of_items = (soup.select('#itemsStream li.iC') for soup in soups)\n",
    "all_items_together = chain.from_iterable(lists_of_items)\n",
    "extracted = (grab_wykop_item_data(item) for item in all_items_together)\n",
    "valid = (wykop for wykop in extracted if wykop is not None)"
   ]
  },
  {
   "cell_type": "code",
   "execution_count": null,
   "metadata": {},
   "outputs": [],
   "source": []
  },
  {
   "cell_type": "code",
   "execution_count": 7,
   "metadata": {},
   "outputs": [],
   "source": [
    "import itertools\n",
    "first5 = [next(valid) for x in range(4)]"
   ]
  },
  {
   "cell_type": "code",
   "execution_count": 8,
   "metadata": {},
   "outputs": [
    {
     "data": {
      "text/plain": [
       "[Wykop(count=131, title='Efekt Latte, czyli dlaczego niektórym ciągle brakuje kasy', description='Jak to się dzieje, że jedni choć zarabiają skromnie, ciągle mają jakieś zaskórniaki i na swoje hobby, a niektórzy od pierwszego do pierwszego całe życie, nie ważne czy 15k na rękę, czy średnia krajowa.', tags=['#finanse', '#ekonomia', '#wychodzimyzprzegrywu', '#psychologia', '#gruparatowaniapoziomu', '#oszczedzanie']),\n",
       " Wykop(count=301, title='Francja potępiła Polskę za wołowinę i... wpadła na krojeniu krów ŻYWCEM!', description='Francuska hipokryzja czy wyrachowana gra o eliminację polski z rynku wołowiny?  ...', tags=['#europa', '#swiat']),\n",
       " Wykop(count=3703, title='W Kanadzie wpadli na genialny pomysł - połączyli dom starców z domem dziecka', description='Wynik przekroczył wszelkie oczekiwania. Starsi ludzie odnaleźli kochające wnuki ponieważ po raz pierwszy sieroty odczuwają rodzicielską miłość i troskę. Lekarze stwierdzili poprawę wszystkich funkcji życiowych u osób starszych, blask w oczach i duże zainteresowanie życiem.', tags=['#ciekawostki', '#kanada', '#rodzice', '#dzieci']),\n",
       " Wykop(count=330, title='Pierwszy helikopter z Afryki, który ma szanse podbić rynki Europy', description='Śmigło 2 cm od kasku, medżik pipul, wudu pipul.', tags=['#afryka', '#technologia', '#wynalazki', '#samobojca', '#slodki', '#jezu'])]"
      ]
     },
     "execution_count": 8,
     "metadata": {},
     "output_type": "execute_result"
    }
   ],
   "source": [
    "list(first5)"
   ]
  },
  {
   "cell_type": "code",
   "execution_count": 9,
   "metadata": {},
   "outputs": [],
   "source": [
    "tags = (wykop.tags for wykop in first5)"
   ]
  },
  {
   "cell_type": "code",
   "execution_count": 10,
   "metadata": {},
   "outputs": [],
   "source": [
    "all_tags = list(chain.from_iterable(tags))"
   ]
  },
  {
   "cell_type": "code",
   "execution_count": 208,
   "metadata": {},
   "outputs": [],
   "source": [
    "counter = {}\n",
    "\n",
    "for tag in all_tags:\n",
    "    if tag not in counter.keys():\n",
    "        counter[tag] = 1\n",
    "    else:\n",
    "        counter[tag] = counter[tag] + 1"
   ]
  },
  {
   "cell_type": "code",
   "execution_count": 209,
   "metadata": {},
   "outputs": [
    {
     "data": {
      "text/plain": [
       "{'#swiat': 1,\n",
       " '#technologia': 2,\n",
       " '#facebook': 1,\n",
       " '#wojnaidei': 1,\n",
       " '#wojnainformacyjna': 1,\n",
       " '#kultura': 1,\n",
       " '#polska': 3,\n",
       " '#drony': 1,\n",
       " '#dron': 1,\n",
       " '#heheszki': 1,\n",
       " '#gdansk': 1,\n",
       " '#trojmiasto': 1,\n",
       " '#kradziez': 1,\n",
       " '#policja': 2,\n",
       " '#poznan': 1,\n",
       " '#moto': 1,\n",
       " '#drogowka': 1}"
      ]
     },
     "execution_count": 209,
     "metadata": {},
     "output_type": "execute_result"
    }
   ],
   "source": [
    "counter"
   ]
  },
  {
   "cell_type": "code",
   "execution_count": 210,
   "metadata": {},
   "outputs": [
    {
     "data": {
      "text/plain": [
       "[('#polska', 3),\n",
       " ('#policja', 2),\n",
       " ('#technologia', 2),\n",
       " ('#drogowka', 1),\n",
       " ('#moto', 1),\n",
       " ('#poznan', 1),\n",
       " ('#kradziez', 1),\n",
       " ('#trojmiasto', 1),\n",
       " ('#gdansk', 1),\n",
       " ('#heheszki', 1),\n",
       " ('#dron', 1),\n",
       " ('#drony', 1),\n",
       " ('#kultura', 1),\n",
       " ('#wojnainformacyjna', 1),\n",
       " ('#wojnaidei', 1),\n",
       " ('#facebook', 1),\n",
       " ('#swiat', 1)]"
      ]
     },
     "execution_count": 210,
     "metadata": {},
     "output_type": "execute_result"
    }
   ],
   "source": [
    "import operator\n",
    "list(reversed(sorted(counter.items(), key=lambda item: item[1])))"
   ]
  },
  {
   "cell_type": "code",
   "execution_count": 217,
   "metadata": {},
   "outputs": [
    {
     "data": {
      "text/plain": [
       "[('#polska', 3),\n",
       " ('#technologia', 2),\n",
       " ('#policja', 2),\n",
       " ('#swiat', 1),\n",
       " ('#facebook', 1),\n",
       " ('#wojnaidei', 1),\n",
       " ('#wojnainformacyjna', 1),\n",
       " ('#kultura', 1),\n",
       " ('#drony', 1),\n",
       " ('#dron', 1),\n",
       " ('#heheszki', 1),\n",
       " ('#gdansk', 1),\n",
       " ('#trojmiasto', 1),\n",
       " ('#kradziez', 1),\n",
       " ('#poznan', 1),\n",
       " ('#moto', 1),\n",
       " ('#drogowka', 1)]"
      ]
     },
     "execution_count": 217,
     "metadata": {},
     "output_type": "execute_result"
    }
   ],
   "source": [
    "from collections import Counter\n",
    "c = Counter(all_tags)\n",
    "c.most_common()"
   ]
  },
  {
   "cell_type": "markdown",
   "metadata": {},
   "source": [
    "persistance\n",
    "-------------"
   ]
  },
  {
   "cell_type": "code",
   "execution_count": 221,
   "metadata": {},
   "outputs": [],
   "source": [
    "import csv\n",
    "with open('wykop.csv', 'w') as destination_file:\n",
    "    writer = csv.writer(destination_file, delimiter=';', quotechar='\"')\n",
    "    for row in first5:\n",
    "        writer.writerow(row)"
   ]
  },
  {
   "cell_type": "code",
   "execution_count": 226,
   "metadata": {},
   "outputs": [],
   "source": [
    "import json\n",
    "with open('wykop.data', 'w') as destination_file:\n",
    "    for row in first5:\n",
    "        destination_file.write(json.dumps(row._asdict()) + \"\\n\")"
   ]
  },
  {
   "cell_type": "code",
   "execution_count": null,
   "metadata": {},
   "outputs": [],
   "source": []
  }
 ],
 "metadata": {
  "kernelspec": {
   "display_name": "Python 3",
   "language": "python",
   "name": "python3"
  },
  "language_info": {
   "codemirror_mode": {
    "name": "ipython",
    "version": 3
   },
   "file_extension": ".py",
   "mimetype": "text/x-python",
   "name": "python",
   "nbconvert_exporter": "python",
   "pygments_lexer": "ipython3",
   "version": "3.7.0rc1"
  }
 },
 "nbformat": 4,
 "nbformat_minor": 2
}
