{
 "cells": [
  {
   "cell_type": "markdown",
   "metadata": {},
   "source": [
    "Document Database"
   ]
  },
  {
   "cell_type": "markdown",
   "metadata": {},
   "source": [
    "SQL vs noSql databases\n",
    "\n",
    "![](../images/sqlvsmongo.png)\n",
    "\n",
    "| field   |      1974      |  2014 |\n",
    "|----------|:-------------:|------:|\n",
    "| Business Data Goals |  daily transactions, nightly raports | continues, realtime |\n",
    "| Release Schedule |    Semi-Annually   |   continues |\n",
    "\n",
    "    \n",
    "    \n",
    "\n",
    "Document databases\n",
    "------------------\n",
    "\n",
    "* What is document\n",
    "    * What is not\n",
    "        Not pdf, or .doc or docx or excel\n",
    "    * More like\n",
    "        * associative array\n",
    "        * Document == Json Object\n",
    "        * Document == Python Dict\n",
    "        * Document == Java Map\n",
    "        * Document == Ruby Hash\n",
    "\n",
    "```json\n",
    "{\n",
    "    \"title\": \"movie 1\",\n",
    "    \"description\": \"movie\",\n",
    "    \"actors_count\": 2\n",
    "}\n",
    "```\n",
    "\n",
    "props\n",
    "------\n",
    "* TIME TO MARKET\n",
    "* Flexible SCHAMA\n",
    "* No Schema manipulation when data changes\n",
    "* Oriented toward programmers\n",
    "* Flexible deployment\n",
    "    * Laptop\n",
    "    * server\n",
    "    * multiple servers\n",
    "    * SAAS\n",
    "* Aggregation framework\n",
    "\n",
    "```json\n",
    "'id' => ['type' => 'integer'],\n",
    "        'lastName' => [\n",
    "            'type' => 'text',\n",
    "            'boost' => 3,\n",
    "            'analyzer' => 'autocomplete',\n",
    "            'search_analyzer' => 'standard',\n",
    "        ],\n",
    "        'firstName' => [\n",
    "            'type' => 'text',\n",
    "            'boost' => 5,\n",
    "            'analyzer' => 'autocomplete_name',\n",
    "            'search_analyzer' => 'standard',\n",
    "        ],\n",
    "        'displayName' => [\n",
    "            'type' => 'text',\n",
    "            'boost' => 10,\n",
    "            'analyzer' => 'standard',\n",
    "            'search_analyzer' => 'standard',\n",
    "        ],\n",
    "        'company' => [\n",
    "            'type' => 'text',\n",
    "            'analyzer' => 'standard',\n",
    "            'search_analyzer' => 'standard',\n",
    "            'boost' => 10,\n",
    "        ],\n",
    "        'organization' => [\n",
    "            'type' => 'text',\n",
    "            'analyzer' => 'standard',\n",
    "            'search_analyzer' => 'standard',\n",
    "            'boost' => 10,\n",
    "        ],\n",
    "        'deskPhone' => ['type' => 'text', 'analyzer' => 'phone', 'boost' => 10],\n",
    "        'shortDialNumber' => ['type' => 'text', 'analyzer' => 'phone', 'boost' => 30],\n",
    "        'inPhoneBook' => ['type' => 'boolean'],\n",
    "        'isSearchable' => ['type' => 'boolean'],\n",
    "        'user_id' => ['type' => 'text'],\n",
    "```\n"
   ]
  },
  {
   "cell_type": "code",
   "execution_count": 1,
   "metadata": {},
   "outputs": [
    {
     "name": "stdout",
     "output_type": "stream",
     "text": [
      "Requirement already satisfied: pymongo in /home/ec2-user/jupyterlab/.venv/lib/python3.7/site-packages\r\n"
     ]
    }
   ],
   "source": [
    "#Connect to database\n",
    "!pip install pymongo"
   ]
  },
  {
   "cell_type": "code",
   "execution_count": 4,
   "metadata": {},
   "outputs": [],
   "source": [
    "from pymongo import MongoClient\n",
    "from pprint import pprint as pp\n",
    "client = MongoClient('mongodb://localhost:27017')"
   ]
  },
  {
   "cell_type": "code",
   "execution_count": 19,
   "metadata": {},
   "outputs": [],
   "source": [
    "tesla_s = {\n",
    "    \"identiffier\": \"tesla-3\",\n",
    "    \"manufacturer\": \"Tesla Motors NEW\"\n",
    "}"
   ]
  },
  {
   "cell_type": "code",
   "execution_count": 16,
   "metadata": {},
   "outputs": [
    {
     "name": "stdout",
     "output_type": "stream",
     "text": [
      "{'identiffier': 'tesla-3', 'manufacturer': 'Tesla Motors NEW'}\n"
     ]
    }
   ],
   "source": [
    "pp(tesla_s)"
   ]
  },
  {
   "cell_type": "markdown",
   "metadata": {},
   "source": [
    "S vs NS store and load\n",
    "------------------------"
   ]
  },
  {
   "cell_type": "code",
   "execution_count": 9,
   "metadata": {},
   "outputs": [
    {
     "data": {
      "text/plain": [
       "<pymongo.results.DeleteResult at 0x7efd4426c648>"
      ]
     },
     "execution_count": 9,
     "metadata": {},
     "output_type": "execute_result"
    }
   ],
   "source": [
    "db = client.kanclerj\n",
    "db.autos.delete_many({})"
   ]
  },
  {
   "cell_type": "code",
   "execution_count": 20,
   "metadata": {},
   "outputs": [
    {
     "data": {
      "text/plain": [
       "<pymongo.results.InsertOneResult at 0x7efd45c13108>"
      ]
     },
     "execution_count": 20,
     "metadata": {},
     "output_type": "execute_result"
    }
   ],
   "source": [
    "db.autos.insert_one(tesla_s)"
   ]
  },
  {
   "cell_type": "code",
   "execution_count": 21,
   "metadata": {},
   "outputs": [],
   "source": [
    "cars = db.autos.find()"
   ]
  },
  {
   "cell_type": "code",
   "execution_count": 22,
   "metadata": {},
   "outputs": [
    {
     "name": "stdout",
     "output_type": "stream",
     "text": [
      "[{'_id': ObjectId('5c5e951e7ec8040c0ded00bc'),\n",
      "  'identiffier': 'tesla-s',\n",
      "  'manufacturer': 'Tesla Motors NEW'},\n",
      " {'_id': ObjectId('5c5e95fc7ec8040c0ded00bd'),\n",
      "  'identiffier': 'tesla-3',\n",
      "  'manufacturer': 'Tesla Motors NEW'},\n",
      " {'_id': ObjectId('5c5e960e7ec8040c0ded00be'),\n",
      "  'identiffier': 'tesla-3',\n",
      "  'manufacturer': 'Tesla Motors NEW'}]\n"
     ]
    }
   ],
   "source": [
    "pp(list(cars))"
   ]
  },
  {
   "cell_type": "code",
   "execution_count": 28,
   "metadata": {},
   "outputs": [],
   "source": [
    "car = db.autos.find(\n",
    "    {\n",
    "        \"manufacturer\": \"Tesla Motors NEW\"\n",
    "    },\n",
    "    {\n",
    "        \"identiffier\": 1\n",
    "    }\n",
    ")"
   ]
  },
  {
   "cell_type": "code",
   "execution_count": 29,
   "metadata": {},
   "outputs": [
    {
     "name": "stdout",
     "output_type": "stream",
     "text": [
      "[{'_id': ObjectId('5c5e951e7ec8040c0ded00bc'), 'identiffier': 'tesla-s'},\n",
      " {'_id': ObjectId('5c5e95fc7ec8040c0ded00bd'), 'identiffier': 'tesla-3'},\n",
      " {'_id': ObjectId('5c5e960e7ec8040c0ded00be'), 'identiffier': 'tesla-3'}]\n"
     ]
    }
   ],
   "source": [
    "pp(list(car))"
   ]
  },
  {
   "cell_type": "markdown",
   "metadata": {},
   "source": [
    "S vs NS add simple field\n",
    "-----------------"
   ]
  },
  {
   "cell_type": "code",
   "execution_count": 30,
   "metadata": {},
   "outputs": [
    {
     "data": {
      "text/plain": [
       "<pymongo.results.InsertOneResult at 0x7efd45be3cc8>"
      ]
     },
     "execution_count": 30,
     "metadata": {},
     "output_type": "execute_result"
    }
   ],
   "source": [
    "volvo_xc_60 = {\n",
    "    \"identiffier\": \"volvo-xc60\",\n",
    "    \"manufacturer\": \"Volvo Cars\",\n",
    "    \"class\": \"SUV\",\n",
    "    \"body style\": \"5-door CUV\",\n",
    "    \"production\": 2008\n",
    "}\n",
    "\n",
    "db.autos.insert_one(volvo_xc_60)"
   ]
  },
  {
   "cell_type": "code",
   "execution_count": 31,
   "metadata": {},
   "outputs": [
    {
     "name": "stdout",
     "output_type": "stream",
     "text": [
      "[{'_id': ObjectId('5c5e951e7ec8040c0ded00bc'),\n",
      "  'identiffier': 'tesla-s',\n",
      "  'manufacturer': 'Tesla Motors NEW'},\n",
      " {'_id': ObjectId('5c5e95fc7ec8040c0ded00bd'),\n",
      "  'identiffier': 'tesla-3',\n",
      "  'manufacturer': 'Tesla Motors NEW'},\n",
      " {'_id': ObjectId('5c5e960e7ec8040c0ded00be'),\n",
      "  'identiffier': 'tesla-3',\n",
      "  'manufacturer': 'Tesla Motors NEW'},\n",
      " {'_id': ObjectId('5c5e970e7ec8040c0ded00bf'),\n",
      "  'body style': '5-door CUV',\n",
      "  'class': 'SUV',\n",
      "  'identiffier': 'volvo-xc60',\n",
      "  'manufacturer': 'Volvo Cars',\n",
      "  'production': 2008}]\n"
     ]
    }
   ],
   "source": [
    "pp(list(db.autos.find()))"
   ]
  },
  {
   "cell_type": "markdown",
   "metadata": {},
   "source": [
    "S vs NS add nested field\n",
    "-----------------"
   ]
  },
  {
   "cell_type": "code",
   "execution_count": 35,
   "metadata": {},
   "outputs": [],
   "source": [
    "subaru = {\n",
    "    \"identiffier\": \"subaru-forester\",\n",
    "    \"manufacturer\": \"Subaru Corporation\",\n",
    "    \"class\": \"SUV\",\n",
    "    \"body style\": \"5-door Small SUV\",\n",
    "    \"production\": [2008, 2009, 2010, 2011, 2012],\n",
    "    \"assembley\": [\n",
    "        {\n",
    "            \"country\": \"Japan\",\n",
    "            \"city\": \"Gunma\"\n",
    "        },\n",
    "        {\n",
    "            \"country\": \"Malaysia\",\n",
    "            \"city\": \"Kuala Lumpur\",\n",
    "        }\n",
    "    ],\n",
    "    \"related\": [\n",
    "        {\n",
    "            \"identiffier\": \"subaru-impreza\"\n",
    "        }\n",
    "    ]\n",
    "}"
   ]
  },
  {
   "cell_type": "code",
   "execution_count": 36,
   "metadata": {},
   "outputs": [
    {
     "data": {
      "text/plain": [
       "<pymongo.results.InsertOneResult at 0x7efd442eba48>"
      ]
     },
     "execution_count": 36,
     "metadata": {},
     "output_type": "execute_result"
    }
   ],
   "source": [
    "db.autos.insert_one(subaru)"
   ]
  },
  {
   "cell_type": "code",
   "execution_count": 34,
   "metadata": {},
   "outputs": [
    {
     "name": "stdout",
     "output_type": "stream",
     "text": [
      "[{'_id': ObjectId('5c5e951e7ec8040c0ded00bc'),\n",
      "  'identiffier': 'tesla-s',\n",
      "  'manufacturer': 'Tesla Motors NEW'},\n",
      " {'_id': ObjectId('5c5e95fc7ec8040c0ded00bd'),\n",
      "  'identiffier': 'tesla-3',\n",
      "  'manufacturer': 'Tesla Motors NEW'},\n",
      " {'_id': ObjectId('5c5e960e7ec8040c0ded00be'),\n",
      "  'identiffier': 'tesla-3',\n",
      "  'manufacturer': 'Tesla Motors NEW'},\n",
      " {'_id': ObjectId('5c5e970e7ec8040c0ded00bf'),\n",
      "  'body style': '5-door CUV',\n",
      "  'class': 'SUV',\n",
      "  'identiffier': 'volvo-xc60',\n",
      "  'manufacturer': 'Volvo Cars',\n",
      "  'production': 2008},\n",
      " {'_id': ObjectId('5c5e97c07ec8040c0ded00c0'),\n",
      "  'assembley': [{'city': 'Gunma', 'country': 'Japan'},\n",
      "                {'city': 'Kuala Lumpur', 'country': 'Malaysia'}],\n",
      "  'body style': '5-door Small SUV',\n",
      "  'class': 'SUV',\n",
      "  'identiffier': 'subaru-forester',\n",
      "  'manufacturer': 'Subaru Corporation',\n",
      "  'production': [2008, 2009, 2010, 2011, 2012],\n",
      "  'related': [{'identiffier': 'subaru-impreza'}]}]\n"
     ]
    }
   ],
   "source": [
    "pp(list(db.autos.find()))"
   ]
  },
  {
   "cell_type": "code",
   "execution_count": 37,
   "metadata": {},
   "outputs": [
    {
     "name": "stdout",
     "output_type": "stream",
     "text": [
      "{'_id': ObjectId('5c5e970e7ec8040c0ded00bf'),\n",
      " 'body style': '5-door CUV',\n",
      " 'class': 'SUV',\n",
      " 'identiffier': 'volvo-xc60',\n",
      " 'manufacturer': 'Volvo Cars',\n",
      " 'production': 2008}\n",
      "{'_id': ObjectId('5c5e97c07ec8040c0ded00c0'),\n",
      " 'assembley': [{'city': 'Gunma', 'country': 'Japan'},\n",
      "               {'city': 'Kuala Lumpur', 'country': 'Malaysia'}],\n",
      " 'body style': '5-door Small SUV',\n",
      " 'class': 'SUV',\n",
      " 'identiffier': 'subaru-forester',\n",
      " 'manufacturer': 'Subaru Corporation',\n",
      " 'production': [2008, 2009, 2010, 2011, 2012],\n",
      " 'related': [{'identiffier': 'subaru-impreza'}]}\n",
      "{'_id': ObjectId('5c5ea2b07ec8040c0ded00c1'),\n",
      " 'assembley': [{'city': 'Gunma', 'country': 'Japan'},\n",
      "               {'city': 'Kuala Lumpur', 'country': 'Malaysia'}],\n",
      " 'body style': '5-door Small SUV',\n",
      " 'class': 'SUV',\n",
      " 'identiffier': 'subaru-forester',\n",
      " 'manufacturer': 'Subaru Corporation',\n",
      " 'production': [2008, 2009, 2010, 2011, 2012],\n",
      " 'related': [{'identiffier': 'subaru-impreza'}]}\n"
     ]
    }
   ],
   "source": [
    "for b in db.autos.find({\"production\": 2008}):\n",
    "    pp(b)"
   ]
  },
  {
   "cell_type": "markdown",
   "metadata": {},
   "source": [
    "projection\n",
    "-------------\n",
    "only identiffier and manufacturer"
   ]
  },
  {
   "cell_type": "code",
   "execution_count": 38,
   "metadata": {},
   "outputs": [
    {
     "name": "stdout",
     "output_type": "stream",
     "text": [
      "{'identiffier': 'volvo-xc60'}\n",
      "{'identiffier': 'subaru-forester'}\n",
      "{'identiffier': 'subaru-forester'}\n"
     ]
    }
   ],
   "source": [
    "for b in db.autos.find({\"production\": 2008}, {\"_id\": 0, \"identiffier\": 1}):\n",
    "    pp(b)"
   ]
  },
  {
   "cell_type": "markdown",
   "metadata": {},
   "source": [
    "multiple fields\n",
    "---------------"
   ]
  },
  {
   "cell_type": "code",
   "execution_count": 39,
   "metadata": {},
   "outputs": [
    {
     "name": "stdout",
     "output_type": "stream",
     "text": [
      "{'identiffier': 'volvo-xc60', 'manufacturer': 'Volvo Cars'}\n"
     ]
    }
   ],
   "source": [
    "for b in db.autos.find(\n",
    "    {\"production\": 2008, \"manufacturer\": \"Volvo Cars\"},\n",
    "    {\"_id\": 0, \"identiffier\": 1, \"manufacturer\": 1}\n",
    "):\n",
    "    pp(b)"
   ]
  },
  {
   "cell_type": "code",
   "execution_count": 40,
   "metadata": {},
   "outputs": [
    {
     "name": "stdout",
     "output_type": "stream",
     "text": [
      "{'_id': ObjectId('5c5e97c07ec8040c0ded00c0'),\n",
      " 'assembley': [{'city': 'Gunma', 'country': 'Japan'},\n",
      "               {'city': 'Kuala Lumpur', 'country': 'Malaysia'}],\n",
      " 'body style': '5-door Small SUV',\n",
      " 'class': 'SUV',\n",
      " 'identiffier': 'subaru-forester',\n",
      " 'manufacturer': 'Subaru Corporation',\n",
      " 'production': [2008, 2009, 2010, 2011, 2012],\n",
      " 'related': [{'identiffier': 'subaru-impreza'}]}\n",
      "{'_id': ObjectId('5c5ea2b07ec8040c0ded00c1'),\n",
      " 'assembley': [{'city': 'Gunma', 'country': 'Japan'},\n",
      "               {'city': 'Kuala Lumpur', 'country': 'Malaysia'}],\n",
      " 'body style': '5-door Small SUV',\n",
      " 'class': 'SUV',\n",
      " 'identiffier': 'subaru-forester',\n",
      " 'manufacturer': 'Subaru Corporation',\n",
      " 'production': [2008, 2009, 2010, 2011, 2012],\n",
      " 'related': [{'identiffier': 'subaru-impreza'}]}\n"
     ]
    }
   ],
   "source": [
    "for b in db.autos.find({\"assembley.city\": \"Kuala Lumpur\"}):\n",
    "    pp(b)"
   ]
  },
  {
   "cell_type": "markdown",
   "metadata": {},
   "source": [
    "noSql \n",
    "-----\n",
    "\n",
    "no changes at all"
   ]
  },
  {
   "cell_type": "code",
   "execution_count": null,
   "metadata": {},
   "outputs": [],
   "source": []
  }
 ],
 "metadata": {
  "kernelspec": {
   "display_name": "Python 3",
   "language": "python",
   "name": "python3"
  },
  "language_info": {
   "codemirror_mode": {
    "name": "ipython",
    "version": 3
   },
   "file_extension": ".py",
   "mimetype": "text/x-python",
   "name": "python",
   "nbconvert_exporter": "python",
   "pygments_lexer": "ipython3",
   "version": "3.7.0rc1"
  }
 },
 "nbformat": 4,
 "nbformat_minor": 2
}
