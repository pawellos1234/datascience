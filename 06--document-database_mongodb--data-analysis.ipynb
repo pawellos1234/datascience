{
 "cells": [
  {
   "cell_type": "markdown",
   "metadata": {},
   "source": [
    "Aggregation framework"
   ]
  },
  {
   "cell_type": "markdown",
   "metadata": {},
   "source": [
    "```json\n",
    "{\n",
    "     \"_id\" : ObjectId(\"5b107bec1d2952d0da904dd7\"),\n",
    "     \"title\" : \"Titan A.E.\",\n",
    "     \"year\" : 2000,\n",
    "     \"rated\" : \"PG\",\n",
    "     \"runtime\" : 94,\n",
    "     \"countries\" : [\n",
    "             \"USA\"\n",
    "     ],\n",
    "     \"genres\" : [\n",
    "             \"Animation\",\n",
    "             \"Action\",\n",
    "             \"Adventure\"\n",
    "     ],\n",
    "     \"director\" : \"Don Bluth, Gary Goldman, Art Vitello\",\n",
    "     \"writers\" : [\n",
    "             \"Hans Bauer\",\n",
    "             \"Randall McCormick\",\n",
    "             \"Ben Edlund\",\n",
    "             \"John August\",\n",
    "             \"Joss Whedon\"\n",
    "     ],\n",
    "     \"actors\" : [\n",
    "             \"Matt Damon\",\n",
    "             \"Bill Pullman\",\n",
    "             \"John Leguizamo\",\n",
    "             \"Nathan Lane\"\n",
    "     ],\n",
    "     \"plot\" : \"A young man learns that he has to find a hidden Earth ship before an enemy alien species does in order to secure the survival of humanity.\",\n",
    "     \"poster\" : \"http://ia.media-imdb.com/images/M/MV5BMjE0NTU0ODg4NV5BMl5BanBnXkFtZTcwNzY3MTQyMQ@@._V1_SX300.jpg\",\n",
    "     \"imdb\" : {\n",
    "             \"id\" : \"tt0120913\",\n",
    "             \"rating\" : 6.6,\n",
    "             \"votes\" : 50875\n",
    "     },\n",
    "     \"tomato\" : {\n",
    "             \"meter\" : 52,\n",
    "             \"image\" : \"rotten\",\n",
    "             \"rating\" : 5.7,\n",
    "             \"reviews\" : 99,\n",
    "             \"fresh\" : 51,\n",
    "             \"consensus\" : \"Great visuals, but the story feels like a cut-and-paste job of other sci-fi movies.\",\n",
    "             \"userMeter\" : 60,\n",
    "             \"userRating\" : 3.2,\n",
    "             \"userReviews\" : 69055\n",
    "     },\n",
    "     \"metacritic\" : 48,\n",
    "     \"awards\" : {\n",
    "             \"wins\" : 1,\n",
    "             \"nominations\" : 7,\n",
    "             \"text\" : \"1 win & 7 nominations.\"\n",
    "     },\n",
    "     \"type\" : \"movie\"\n",
    "}\n",
    "```"
   ]
  },
  {
   "cell_type": "code",
   "execution_count": 1,
   "metadata": {},
   "outputs": [
    {
     "name": "stdout",
     "output_type": "stream",
     "text": [
      "Requirement already satisfied: pymongo in /home/ec2-user/jupyterlab/.venv/lib/python3.7/site-packages\r\n"
     ]
    }
   ],
   "source": [
    "#Connect to database\n",
    "!pip install pymongo"
   ]
  },
  {
   "cell_type": "code",
   "execution_count": 2,
   "metadata": {},
   "outputs": [],
   "source": [
    "from pymongo import MongoClient\n",
    "from pprint import pprint as pp\n",
    "client = MongoClient('mongodb://localhost:27017')"
   ]
  },
  {
   "cell_type": "code",
   "execution_count": 3,
   "metadata": {},
   "outputs": [],
   "source": [
    "db = client.datascience"
   ]
  },
  {
   "cell_type": "markdown",
   "metadata": {},
   "source": [
    "agregation operators\n",
    "----------------------\n",
    "\n",
    "* \\$project -> schape\n",
    "\n",
    "\n",
    "```json\n",
    "{\n",
    " \"title\" : \"Titan A.E.\",\n",
    " \"year\" : 2000,\n",
    " \"imdb\" : {\n",
    "             \"id\" : \"tt0120913\",\n",
    "             \"rating\" : 6.6,\n",
    "             \"votes\" : 50875\n",
    "     }\n",
    "}\n",
    "```\n",
    "\n",
    "```json\n",
    "{\n",
    " \"title\" : \"Titan A.E.\",\n",
    " \"year\" : 2000,\n",
    " \"rating\" : 6.6\n",
    "}\n",
    "```\n",
    "\n",
    "* \\$match -> filtering\n",
    "* \\$group\n",
    "* \\$sort\n",
    "* \\$skip\n",
    "* \\$limit\n",
    "* \\$unwind\n",
    "\n",
    "```json\n",
    "{\n",
    " \"title\" : \"Titan A.E.\",\n",
    " \"year\" : 2000,\n",
    " \"actors\" : [\n",
    "     \"Matt Damon\",\n",
    "     \"Bill Pullman\",\n",
    "     \"John Leguizamo\"\n",
    " ],\n",
    "}\n",
    "```\n",
    "unwind result in\n",
    "```json\n",
    "{\n",
    " \"title\" : \"Titan A.E.\",\n",
    " \"year\" : 2000,\n",
    " \"actors\" : \"Matt Damon\"\n",
    "},\n",
    "{\n",
    " \"title\" : \"Titan A.E.\",\n",
    " \"year\" : 2000,\n",
    " \"actors\" : \"Bill Pullman\"\n",
    "},\n",
    "{\n",
    " \"title\" : \"Titan A.E.\",\n",
    " \"year\" : 2000,\n",
    " \"actors\" : \"John Leguizamo\"\n",
    "}\n",
    "```"
   ]
  },
  {
   "cell_type": "markdown",
   "metadata": {},
   "source": [
    "\n",
    "Which movie has the highest nomination to winning ratio?\n",
    "----------------------------------------------------"
   ]
  },
  {
   "cell_type": "code",
   "execution_count": 6,
   "metadata": {},
   "outputs": [
    {
     "name": "stdout",
     "output_type": "stream",
     "text": [
      "[{'_id': ObjectId('5b107bec1d2952d0da904d0c'),\n",
      "  'awards': {'nominations': 1.0,\n",
      "             'text': '22 wins & 1 nomination.',\n",
      "             'wins': 22.0},\n",
      "  'rating': 8.1,\n",
      "  'ratio': 22.0,\n",
      "  'title': 'Everything Will Be Ok'},\n",
      " {'_id': ObjectId('5b107bec1d2952d0da904e4e'),\n",
      "  'awards': {'nominations': 1.0,\n",
      "             'text': '22 wins & 1 nomination.',\n",
      "             'wins': 22.0},\n",
      "  'rating': 7.6,\n",
      "  'ratio': 22.0,\n",
      "  'title': 'Au bout du monde'},\n",
      " {'_id': ObjectId('5b107bec1d2952d0da904ba7'),\n",
      "  'awards': {'nominations': 1.0,\n",
      "             'text': '17 wins & 1 nomination.',\n",
      "             'wins': 17.0},\n",
      "  'rating': 4.8,\n",
      "  'ratio': 17.0,\n",
      "  'title': 'Oy Vey! My Son Is Gay!!'},\n",
      " {'_id': ObjectId('5b107bec1d2952d0da904da6'),\n",
      "  'awards': {'nominations': 1.0,\n",
      "             'text': '11 wins & 1 nomination.',\n",
      "             'wins': 11.0},\n",
      "  'rating': 7.2,\n",
      "  'ratio': 11.0,\n",
      "  'title': 'Filler ve Çimen'},\n",
      " {'_id': ObjectId('5b107bec1d2952d0da904e17'),\n",
      "  'awards': {'nominations': 1.0, 'text': '8 wins & 1 nomination.', 'wins': 8.0},\n",
      "  'rating': 7.3,\n",
      "  'ratio': 8.0,\n",
      "  'title': 'I Am David'},\n",
      " {'_id': ObjectId('5b107bec1d2952d0da904787'),\n",
      "  'awards': {'nominations': 2.0,\n",
      "             'text': 'Nominated for 1 Oscar. Another 12 wins & 2 nominations.',\n",
      "             'wins': 12.0},\n",
      "  'rating': 8.3,\n",
      "  'ratio': 6.0,\n",
      "  'title': 'Wild Strawberries'},\n",
      " {'_id': ObjectId('5b107bec1d2952d0da90482e'),\n",
      "  'awards': {'nominations': 1.0,\n",
      "             'text': 'Nominated for 5 Oscars. Another 6 wins & 1 nomination.',\n",
      "             'wins': 6.0},\n",
      "  'rating': 8.6,\n",
      "  'ratio': 6.0,\n",
      "  'title': \"It's a Wonderful Life\"},\n",
      " {'_id': ObjectId('5b107bec1d2952d0da904eb5'),\n",
      "  'awards': {'nominations': 1.0, 'text': '6 wins & 1 nomination.', 'wins': 6.0},\n",
      "  'rating': 7.5,\n",
      "  'ratio': 6.0,\n",
      "  'title': 'Inochi bô ni furô'},\n",
      " {'_id': ObjectId('5b107bec1d2952d0da90494f'),\n",
      "  'awards': {'nominations': 1.0, 'text': '6 wins & 1 nomination.', 'wins': 6.0},\n",
      "  'rating': 6.4,\n",
      "  'ratio': 6.0,\n",
      "  'title': 'Eu Te Amo'},\n",
      " {'_id': ObjectId('5b107bec1d2952d0da904f76'),\n",
      "  'awards': {'nominations': 1.0, 'text': '5 wins & 1 nomination.', 'wins': 5.0},\n",
      "  'rating': 7.2,\n",
      "  'ratio': 5.0,\n",
      "  'title': 'Km. 0 - Kilometer Zero'},\n",
      " {'_id': ObjectId('5b107bec1d2952d0da904bdf'),\n",
      "  'awards': {'nominations': 1.0,\n",
      "             'text': 'Nominated for 1 Oscar. Another 5 wins & 1 nomination.',\n",
      "             'wins': 5.0},\n",
      "  'rating': 8.2,\n",
      "  'ratio': 5.0,\n",
      "  'title': 'La Grande Illusion'},\n",
      " {'_id': ObjectId('5b107bec1d2952d0da904d04'),\n",
      "  'awards': {'nominations': 1.0, 'text': '5 wins & 1 nomination.', 'wins': 5.0},\n",
      "  'rating': 7.4,\n",
      "  'ratio': 5.0,\n",
      "  'title': 'Tro, håb og kærlighed'},\n",
      " {'_id': ObjectId('5b107bec1d2952d0da904cfc'),\n",
      "  'awards': {'nominations': 1.0, 'text': '5 wins & 1 nomination.', 'wins': 5.0},\n",
      "  'rating': 8.3,\n",
      "  'ratio': 5.0,\n",
      "  'title': 'My Neighbor Totoro'},\n",
      " {'_id': ObjectId('5b107bec1d2952d0da90499e'),\n",
      "  'awards': {'nominations': 3.0,\n",
      "             'text': '15 wins & 3 nominations.',\n",
      "             'wins': 15.0},\n",
      "  'rating': 7.6,\n",
      "  'ratio': 5.0,\n",
      "  'title': 'The Story of Qiu Ju'},\n",
      " {'_id': ObjectId('5b107bec1d2952d0da904ebd'),\n",
      "  'awards': {'nominations': 1.0, 'text': '5 wins & 1 nomination.', 'wins': 5.0},\n",
      "  'rating': 7.2,\n",
      "  'ratio': 5.0,\n",
      "  'title': 'Bu jian bu san'},\n",
      " {'_id': ObjectId('5b107bec1d2952d0da9047ac'),\n",
      "  'awards': {'nominations': 2.0,\n",
      "             'text': '10 wins & 2 nominations.',\n",
      "             'wins': 10.0},\n",
      "  'rating': 2.4,\n",
      "  'ratio': 5.0,\n",
      "  'title': 'Battlefield Earth'},\n",
      " {'_id': ObjectId('5b107bec1d2952d0da90492b'),\n",
      "  'awards': {'nominations': 3.0,\n",
      "             'text': 'Nominated for 2 Oscars. Another 14 wins & 3 nominations.',\n",
      "             'wins': 14.0},\n",
      "  'rating': 7.7,\n",
      "  'ratio': 4.666666666666667,\n",
      "  'title': 'My Life as a Dog'},\n",
      " {'_id': ObjectId('5b107bec1d2952d0da904b7e'),\n",
      "  'awards': {'nominations': 2.0,\n",
      "             'text': '9 wins & 2 nominations.',\n",
      "             'wins': 9.0},\n",
      "  'rating': 7.8,\n",
      "  'ratio': 4.5,\n",
      "  'title': 'Il marchese del Grillo'},\n",
      " {'_id': ObjectId('5b107bec1d2952d0da904efc'),\n",
      "  'awards': {'nominations': 2.0,\n",
      "             'text': '9 wins & 2 nominations.',\n",
      "             'wins': 9.0},\n",
      "  'rating': 6.5,\n",
      "  'ratio': 4.5,\n",
      "  'title': 'Cuestión de fe'},\n",
      " {'_id': ObjectId('5b107bec1d2952d0da90472a'),\n",
      "  'awards': {'nominations': 1.0,\n",
      "             'text': 'Nominated for 2 Oscars. Another 4 wins & 1 nomination.',\n",
      "             'wins': 4.0},\n",
      "  'rating': 8.0,\n",
      "  'ratio': 4.0,\n",
      "  'title': 'Planet of the Apes'},\n",
      " {'_id': ObjectId('5b107bec1d2952d0da9049a0'),\n",
      "  'awards': {'nominations': 1.0,\n",
      "             'text': 'Nominated for 1 Oscar. Another 4 wins & 1 nomination.',\n",
      "             'wins': 4.0},\n",
      "  'rating': 7.8,\n",
      "  'ratio': 4.0,\n",
      "  'title': 'Ju Dou'},\n",
      " {'_id': ObjectId('5b107bec1d2952d0da904e46'),\n",
      "  'awards': {'nominations': 1.0,\n",
      "             'text': 'Nominated for 1 Oscar. Another 4 wins & 1 nomination.',\n",
      "             'wins': 4.0},\n",
      "  'rating': 7.2,\n",
      "  'ratio': 4.0,\n",
      "  'title': 'Le moine et le poisson'},\n",
      " {'_id': ObjectId('5b107bec1d2952d0da904d4f'),\n",
      "  'awards': {'nominations': 1.0, 'text': '4 wins & 1 nomination.', 'wins': 4.0},\n",
      "  'rating': 8.8,\n",
      "  'ratio': 4.0,\n",
      "  'title': 'Tie Xi Qu: West of the Tracks'},\n",
      " {'_id': ObjectId('5b107bec1d2952d0da904d4c'),\n",
      "  'awards': {'nominations': 1.0, 'text': '4 wins & 1 nomination.', 'wins': 4.0},\n",
      "  'rating': 8.8,\n",
      "  'ratio': 4.0,\n",
      "  'title': 'Tie Xi Qu: West of the Tracks'},\n",
      " {'_id': ObjectId('5b107bec1d2952d0da90491e'),\n",
      "  'awards': {'nominations': 1.0, 'text': '4 wins & 1 nomination.', 'wins': 4.0},\n",
      "  'rating': 5.6,\n",
      "  'ratio': 4.0,\n",
      "  'title': 'Ed Gein'}]\n"
     ]
    }
   ],
   "source": [
    "pp(list(db.movieDetails.aggregate([\n",
    "    {\"$match\": {\"awards\": {\"$exists\": \"1\"}}},\n",
    "    {\"$match\": {\"awards.wins\": {\"$gt\": 0}, \"awards.nominations\": {\"$gt\": 0}}},\n",
    "    {\"$project\": {\"title\": 1, \"awards\": 1, 'rating': '$imdb.rating', \"ratio\": {'$divide': ['$awards.wins', '$awards.nominations']}}},\n",
    "    {\"$sort\": {\"ratio\": -1}},\n",
    "    {\"$limit\": 25}\n",
    "])))"
   ]
  },
  {
   "cell_type": "markdown",
   "metadata": {},
   "source": [
    "Which actor has participated in the highest amount of movies?\n",
    "-------------------------------------------------------------\n"
   ]
  },
  {
   "cell_type": "code",
   "execution_count": 9,
   "metadata": {},
   "outputs": [
    {
     "name": "stdout",
     "output_type": "stream",
     "text": [
      "[{'_id': ObjectId('5b107bec1d2952d0da9046e1'), 'actor': 'Liam Neeson'},\n",
      " {'_id': ObjectId('5b107bec1d2952d0da9046e0'), 'actor': 'Claudia Cardinale'},\n",
      " {'_id': ObjectId('5b107bec1d2952d0da9046e1'), 'actor': 'Charlize Theron'},\n",
      " {'_id': ObjectId('5b107bec1d2952d0da9046e1'), 'actor': 'Seth MacFarlane'},\n",
      " {'_id': ObjectId('5b107bec1d2952d0da9046e1'), 'actor': 'Amanda Seyfried'}]\n"
     ]
    }
   ],
   "source": [
    "#single movie\n",
    "pp(list(db.movieDetails.aggregate([\n",
    "    {\"$match\": {\"actors\": {\"$exists\": \"1\"}}},\n",
    "    {\"$unwind\": \"$actors\"},\n",
    "    {\"$project\": {\"actor\": \"$actors\"}},\n",
    "    {\"$sort\": {\"rating\": -1}},\n",
    "    {\"$limit\": 5}\n",
    "])))"
   ]
  },
  {
   "cell_type": "code",
   "execution_count": 11,
   "metadata": {},
   "outputs": [
    {
     "name": "stdout",
     "output_type": "stream",
     "text": [
      "[{'_id': 'Tom Hanks', 'count': 8},\n",
      " {'_id': 'Natalie Portman', 'count': 8},\n",
      " {'_id': 'Louis C.K.', 'count': 8},\n",
      " {'_id': 'Scarlett Johansson', 'count': 7},\n",
      " {'_id': 'Ewan McGregor', 'count': 7}]\n"
     ]
    }
   ],
   "source": [
    "pp(list(db.movieDetails.aggregate([\n",
    "    {\"$match\": {\"actors\": {\"$exists\": \"1\"}}},\n",
    "    {\"$unwind\": \"$actors\"},\n",
    "    {\"$project\": {\"actor\": \"$actors\"}},\n",
    "    {\"$group\": {\"_id\": \"$actor\", \"count\": {\"$sum\": 1}}},\n",
    "    {\"$sort\": {\"count\": -1}},\n",
    "    {\"$limit\": 5}\n",
    "])))"
   ]
  },
  {
   "cell_type": "markdown",
   "metadata": {},
   "source": [
    "title\n",
    "------\n",
    "Whoo hoo Tom hanks and Natalie Portman taking the lead\n"
   ]
  },
  {
   "cell_type": "markdown",
   "metadata": {},
   "source": [
    "Which actor had highest average movie rating value?\n",
    "----------------------------------------------------"
   ]
  },
  {
   "cell_type": "code",
   "execution_count": 16,
   "metadata": {},
   "outputs": [
    {
     "name": "stdout",
     "output_type": "stream",
     "text": [
      "[{'_id': 'Nikita Devine', 'avg_rating': 9.6},\n",
      " {'_id': 'Tony DeSergio', 'avg_rating': 9.6},\n",
      " {'_id': 'Nichola Holt', 'avg_rating': 9.6},\n",
      " {'_id': 'Michelle Banks', 'avg_rating': 9.6},\n",
      " {'_id': 'Igor Biscan', 'avg_rating': 9.5}]\n"
     ]
    }
   ],
   "source": [
    "pp(list(db.movieDetails.aggregate([\n",
    "    {\"$match\": {\"actors\": {\"$exists\": \"1\"}}},\n",
    "    {\"$unwind\": \"$actors\"},\n",
    "    {\"$project\": {\"actor\": \"$actors\", \"rating\": \"$imdb.rating\"}},\n",
    "    {\"$group\": {\"_id\": \"$actor\", \"avg_rating\": {\"$avg\": \"$rating\"}}},\n",
    "    {\"$sort\": {\"avg_rating\": -1}},\n",
    "    {\"$limit\": 5}\n",
    "])))"
   ]
  },
  {
   "cell_type": "markdown",
   "metadata": {},
   "source": [
    "hmm, are they one movie star?!"
   ]
  },
  {
   "cell_type": "code",
   "execution_count": 17,
   "metadata": {},
   "outputs": [
    {
     "name": "stdout",
     "output_type": "stream",
     "text": [
      "[{'_id': 'Nikita Devine', 'avg_rating': 9.6, 'count': 1},\n",
      " {'_id': 'Tony DeSergio', 'avg_rating': 9.6, 'count': 1},\n",
      " {'_id': 'Nichola Holt', 'avg_rating': 9.6, 'count': 1},\n",
      " {'_id': 'Michelle Banks', 'avg_rating': 9.6, 'count': 1},\n",
      " {'_id': 'Igor Biscan', 'avg_rating': 9.5, 'count': 1}]\n"
     ]
    }
   ],
   "source": [
    "pp(list(db.movieDetails.aggregate([\n",
    "    {\"$match\": {\"actors\": {\"$exists\": \"1\"}}},\n",
    "    {\"$unwind\": \"$actors\"},\n",
    "    {\"$project\": {\"actor\": \"$actors\", \"rating\": \"$imdb.rating\"}},\n",
    "    {\"$group\": {\"_id\": \"$actor\", \"avg_rating\": {\"$avg\": \"$rating\"}, \"count\": {\"$sum\": 1}}},\n",
    "    {\"$sort\": {\"avg_rating\": -1}},\n",
    "    {\"$limit\": 5}\n",
    "])))"
   ]
  },
  {
   "cell_type": "markdown",
   "metadata": {},
   "source": [
    "indeed, avg trap, lets check with at least 2 movies"
   ]
  },
  {
   "cell_type": "code",
   "execution_count": 18,
   "metadata": {},
   "outputs": [
    {
     "name": "stdout",
     "output_type": "stream",
     "text": [
      "[{'_id': 'Mark Hamill', 'avg_rating': 8.633333333333333, 'count': 3},\n",
      " {'_id': 'Carrie Fisher', 'avg_rating': 8.633333333333333, 'count': 3},\n",
      " {'_id': 'Harrison Ford', 'avg_rating': 8.6, 'count': 4},\n",
      " {'_id': 'Brian Johnson', 'avg_rating': 8.5, 'count': 6},\n",
      " {'_id': 'AC/DC', 'avg_rating': 8.5, 'count': 3}]\n"
     ]
    }
   ],
   "source": [
    "pp(list(db.movieDetails.aggregate([\n",
    "    {\"$match\": {\"actors\": {\"$exists\": \"1\"}}},\n",
    "    {\"$unwind\": \"$actors\"},\n",
    "    {\"$project\": {\"actor\": \"$actors\", \"rating\": \"$imdb.rating\"}},\n",
    "    {\"$group\": {\"_id\": \"$actor\", \"avg_rating\": {\"$avg\": \"$rating\"}, \"count\": {\"$sum\": 1}}},\n",
    "    {\"$match\": {\"count\": {\"$gte\": 3}}},\n",
    "    {\"$sort\": {\"avg_rating\": -1}},\n",
    "    {\"$limit\": 5}\n",
    "])))"
   ]
  },
  {
   "cell_type": "markdown",
   "metadata": {},
   "source": [
    "Hmm Harrison Ford !!! \n",
    "\n",
    "![](../images/ford.jpg)"
   ]
  },
  {
   "cell_type": "markdown",
   "metadata": {},
   "source": [
    "\n",
    "Grouping operators\n",
    "------------------\n",
    "* \\$first\n",
    "* \\$last\n",
    "* \\$max\n",
    "* \\$min\n",
    "* \\$avg"
   ]
  },
  {
   "cell_type": "code",
   "execution_count": null,
   "metadata": {},
   "outputs": [],
   "source": []
  }
 ],
 "metadata": {
  "kernelspec": {
   "display_name": "Python 3",
   "language": "python",
   "name": "python3"
  },
  "language_info": {
   "codemirror_mode": {
    "name": "ipython",
    "version": 3
   },
   "file_extension": ".py",
   "mimetype": "text/x-python",
   "name": "python",
   "nbconvert_exporter": "python",
   "pygments_lexer": "ipython3",
   "version": "3.7.0rc1"
  }
 },
 "nbformat": 4,
 "nbformat_minor": 2
}
